{
 "cells": [
  {
   "cell_type": "code",
   "execution_count": 1,
   "id": "2df80c7f",
   "metadata": {},
   "outputs": [],
   "source": [
    "import pandas as pd"
   ]
  },
  {
   "cell_type": "code",
   "execution_count": 2,
   "id": "ebf13ae6",
   "metadata": {},
   "outputs": [],
   "source": [
    "df = pd.read_csv('/Users/kirtan/Downloads/play_tennis.csv')"
   ]
  },
  {
   "cell_type": "code",
   "execution_count": 3,
   "id": "3489ced0",
   "metadata": {},
   "outputs": [
    {
     "data": {
      "text/html": [
       "<div>\n",
       "<style scoped>\n",
       "    .dataframe tbody tr th:only-of-type {\n",
       "        vertical-align: middle;\n",
       "    }\n",
       "\n",
       "    .dataframe tbody tr th {\n",
       "        vertical-align: top;\n",
       "    }\n",
       "\n",
       "    .dataframe thead th {\n",
       "        text-align: right;\n",
       "    }\n",
       "</style>\n",
       "<table border=\"1\" class=\"dataframe\">\n",
       "  <thead>\n",
       "    <tr style=\"text-align: right;\">\n",
       "      <th></th>\n",
       "      <th>day</th>\n",
       "      <th>outlook</th>\n",
       "      <th>temp</th>\n",
       "      <th>humidity</th>\n",
       "      <th>wind</th>\n",
       "      <th>play</th>\n",
       "    </tr>\n",
       "  </thead>\n",
       "  <tbody>\n",
       "    <tr>\n",
       "      <th>0</th>\n",
       "      <td>D1</td>\n",
       "      <td>Sunny</td>\n",
       "      <td>Hot</td>\n",
       "      <td>High</td>\n",
       "      <td>Weak</td>\n",
       "      <td>No</td>\n",
       "    </tr>\n",
       "    <tr>\n",
       "      <th>1</th>\n",
       "      <td>D2</td>\n",
       "      <td>Sunny</td>\n",
       "      <td>Hot</td>\n",
       "      <td>High</td>\n",
       "      <td>Strong</td>\n",
       "      <td>No</td>\n",
       "    </tr>\n",
       "    <tr>\n",
       "      <th>2</th>\n",
       "      <td>D3</td>\n",
       "      <td>Overcast</td>\n",
       "      <td>Hot</td>\n",
       "      <td>High</td>\n",
       "      <td>Weak</td>\n",
       "      <td>Yes</td>\n",
       "    </tr>\n",
       "    <tr>\n",
       "      <th>3</th>\n",
       "      <td>D4</td>\n",
       "      <td>Rain</td>\n",
       "      <td>Mild</td>\n",
       "      <td>High</td>\n",
       "      <td>Weak</td>\n",
       "      <td>Yes</td>\n",
       "    </tr>\n",
       "    <tr>\n",
       "      <th>4</th>\n",
       "      <td>D5</td>\n",
       "      <td>Rain</td>\n",
       "      <td>Cool</td>\n",
       "      <td>Normal</td>\n",
       "      <td>Weak</td>\n",
       "      <td>Yes</td>\n",
       "    </tr>\n",
       "  </tbody>\n",
       "</table>\n",
       "</div>"
      ],
      "text/plain": [
       "  day   outlook  temp humidity    wind play\n",
       "0  D1     Sunny   Hot     High    Weak   No\n",
       "1  D2     Sunny   Hot     High  Strong   No\n",
       "2  D3  Overcast   Hot     High    Weak  Yes\n",
       "3  D4      Rain  Mild     High    Weak  Yes\n",
       "4  D5      Rain  Cool   Normal    Weak  Yes"
      ]
     },
     "execution_count": 3,
     "metadata": {},
     "output_type": "execute_result"
    }
   ],
   "source": [
    "df.head()"
   ]
  },
  {
   "cell_type": "code",
   "execution_count": 4,
   "id": "acc70ad5",
   "metadata": {},
   "outputs": [
    {
     "data": {
      "text/plain": [
       "(14, 6)"
      ]
     },
     "execution_count": 4,
     "metadata": {},
     "output_type": "execute_result"
    }
   ],
   "source": [
    "df.shape"
   ]
  },
  {
   "cell_type": "code",
   "execution_count": 5,
   "id": "dcf5f3bd",
   "metadata": {},
   "outputs": [
    {
     "data": {
      "text/plain": [
       "day         0\n",
       "outlook     0\n",
       "temp        0\n",
       "humidity    0\n",
       "wind        0\n",
       "play        0\n",
       "dtype: int64"
      ]
     },
     "execution_count": 5,
     "metadata": {},
     "output_type": "execute_result"
    }
   ],
   "source": [
    "df.isnull().sum()"
   ]
  },
  {
   "cell_type": "code",
   "execution_count": 6,
   "id": "b73ef4e2",
   "metadata": {},
   "outputs": [],
   "source": [
    "df = df.drop(columns=['day'])"
   ]
  },
  {
   "cell_type": "code",
   "execution_count": 7,
   "id": "50931f88",
   "metadata": {},
   "outputs": [
    {
     "data": {
      "text/html": [
       "<div>\n",
       "<style scoped>\n",
       "    .dataframe tbody tr th:only-of-type {\n",
       "        vertical-align: middle;\n",
       "    }\n",
       "\n",
       "    .dataframe tbody tr th {\n",
       "        vertical-align: top;\n",
       "    }\n",
       "\n",
       "    .dataframe thead th {\n",
       "        text-align: right;\n",
       "    }\n",
       "</style>\n",
       "<table border=\"1\" class=\"dataframe\">\n",
       "  <thead>\n",
       "    <tr style=\"text-align: right;\">\n",
       "      <th></th>\n",
       "      <th>outlook</th>\n",
       "      <th>temp</th>\n",
       "      <th>humidity</th>\n",
       "      <th>wind</th>\n",
       "      <th>play</th>\n",
       "    </tr>\n",
       "  </thead>\n",
       "  <tbody>\n",
       "    <tr>\n",
       "      <th>0</th>\n",
       "      <td>Sunny</td>\n",
       "      <td>Hot</td>\n",
       "      <td>High</td>\n",
       "      <td>Weak</td>\n",
       "      <td>No</td>\n",
       "    </tr>\n",
       "    <tr>\n",
       "      <th>1</th>\n",
       "      <td>Sunny</td>\n",
       "      <td>Hot</td>\n",
       "      <td>High</td>\n",
       "      <td>Strong</td>\n",
       "      <td>No</td>\n",
       "    </tr>\n",
       "    <tr>\n",
       "      <th>2</th>\n",
       "      <td>Overcast</td>\n",
       "      <td>Hot</td>\n",
       "      <td>High</td>\n",
       "      <td>Weak</td>\n",
       "      <td>Yes</td>\n",
       "    </tr>\n",
       "    <tr>\n",
       "      <th>3</th>\n",
       "      <td>Rain</td>\n",
       "      <td>Mild</td>\n",
       "      <td>High</td>\n",
       "      <td>Weak</td>\n",
       "      <td>Yes</td>\n",
       "    </tr>\n",
       "    <tr>\n",
       "      <th>4</th>\n",
       "      <td>Rain</td>\n",
       "      <td>Cool</td>\n",
       "      <td>Normal</td>\n",
       "      <td>Weak</td>\n",
       "      <td>Yes</td>\n",
       "    </tr>\n",
       "  </tbody>\n",
       "</table>\n",
       "</div>"
      ],
      "text/plain": [
       "    outlook  temp humidity    wind play\n",
       "0     Sunny   Hot     High    Weak   No\n",
       "1     Sunny   Hot     High  Strong   No\n",
       "2  Overcast   Hot     High    Weak  Yes\n",
       "3      Rain  Mild     High    Weak  Yes\n",
       "4      Rain  Cool   Normal    Weak  Yes"
      ]
     },
     "execution_count": 7,
     "metadata": {},
     "output_type": "execute_result"
    }
   ],
   "source": [
    "df.head()"
   ]
  },
  {
   "cell_type": "markdown",
   "id": "f66ffc00",
   "metadata": {},
   "source": [
    "## Initial Probabilities"
   ]
  },
  {
   "cell_type": "code",
   "execution_count": 8,
   "id": "8ce1a417",
   "metadata": {},
   "outputs": [],
   "source": [
    "total, _ = df.shape"
   ]
  },
  {
   "cell_type": "code",
   "execution_count": 9,
   "id": "4b5d1be3",
   "metadata": {},
   "outputs": [],
   "source": [
    "total_Yes, total_No = df['play'].value_counts()"
   ]
  },
  {
   "cell_type": "code",
   "execution_count": 10,
   "id": "054150df",
   "metadata": {},
   "outputs": [
    {
     "data": {
      "text/plain": [
       "9"
      ]
     },
     "execution_count": 10,
     "metadata": {},
     "output_type": "execute_result"
    }
   ],
   "source": [
    "total_Yes"
   ]
  },
  {
   "cell_type": "code",
   "execution_count": 11,
   "id": "3c505fa2",
   "metadata": {},
   "outputs": [],
   "source": [
    "prob_No = total_No / total\n",
    "prob_Yes = total_Yes / total"
   ]
  },
  {
   "cell_type": "code",
   "execution_count": 12,
   "id": "d38a48ae",
   "metadata": {},
   "outputs": [
    {
     "data": {
      "text/plain": [
       "0.6428571428571429"
      ]
     },
     "execution_count": 12,
     "metadata": {},
     "output_type": "execute_result"
    }
   ],
   "source": [
    "prob_Yes"
   ]
  },
  {
   "cell_type": "code",
   "execution_count": 13,
   "id": "70e3b6b2",
   "metadata": {},
   "outputs": [
    {
     "data": {
      "text/plain": [
       "0.35714285714285715"
      ]
     },
     "execution_count": 13,
     "metadata": {},
     "output_type": "execute_result"
    }
   ],
   "source": [
    "prob_No"
   ]
  },
  {
   "cell_type": "code",
   "execution_count": 69,
   "id": "ded3447a",
   "metadata": {},
   "outputs": [],
   "source": [
    "class Naive_Bayes:\n",
    "    def __init__(self, df):\n",
    "        self.df = df\n",
    "        self.total_yes = df[df['play'] == 'Yes'].shape[0]\n",
    "        self.total_no = df[df['play'] == 'No'].shape[0]\n",
    "        self.total = df.shape[0]\n",
    "        self.prob_No = self.total_no / self.total\n",
    "        self.prob_Yes = self.total_yes / self.total\n",
    "    \n",
    "    def get_total(self, col):\n",
    "        variable_counts = {}\n",
    "        unique_vals = self.df[col].unique()\n",
    "\n",
    "        for val in unique_vals:\n",
    "            count = self.df[self.df[col] == val].shape[0]\n",
    "            variable_counts[val] = count\n",
    "\n",
    "        variable_counts_df = pd.DataFrame(list(variable_counts.items()), columns=[col, 'count'])\n",
    "        return variable_counts_df\n",
    "\n",
    "    def calculate_conditional_prob(self, col):\n",
    "        x = self.get_total(col)\n",
    "        condi_prob_dict = {}\n",
    "\n",
    "        n, _ = x.shape\n",
    "\n",
    "        for i in range(n):\n",
    "            col_yes = self.df[(self.df[col] == x[col][i]) & (self.df['play'] == 'Yes')].shape[0]\n",
    "            col_no = self.df[(self.df[col] == x[col][i]) & (self.df['play'] == 'No')].shape[0]\n",
    "\n",
    "            yes_prob = col_yes / self.total_yes if self.total_yes > 0 else 0\n",
    "            no_prob = col_no / self.total_no if self.total_no > 0 else 0\n",
    "\n",
    "            condi_prob_dict[x[col][i]] = (yes_prob, no_prob)\n",
    "\n",
    "        condi_prob_df = pd.DataFrame.from_dict(condi_prob_dict, orient='index', columns=['yes_prob', 'no_prob'])\n",
    "        condi_prob_df.reset_index(inplace=True)\n",
    "        condi_prob_df.rename(columns={'index': col}, inplace=True)\n",
    "\n",
    "        return condi_prob_df\n",
    "    \n",
    "    def get_conditional_prob(self):\n",
    "        ans = []\n",
    "        for col in self.df.columns:\n",
    "            if col != 'play':  \n",
    "                col_probs = self.calculate_conditional_prob(col)\n",
    "                ans.append(col_probs)\n",
    "        return ans\n",
    "    \n",
    "    def predict(self, param):\n",
    "        probs = self.get_conditional_prob()\n",
    "\n",
    "        prob_yes = self.prob_Yes\n",
    "        prob_no = self.prob_No\n",
    "\n",
    "        for i, col in enumerate(self.df.columns):\n",
    "            if col != 'play':\n",
    "                col_probs = probs[i]  \n",
    "                feature_value = param[col]  \n",
    "\n",
    "\n",
    "                feature_probs = col_probs[col_probs[col] == feature_value]\n",
    "\n",
    "                if not feature_probs.empty:\n",
    "                    prob_yes *= feature_probs['yes_prob'].values[0]\n",
    "                    prob_no *= feature_probs['no_prob'].values[0]\n",
    "\n",
    "        if prob_yes > prob_no:\n",
    "            return 'Yes'\n",
    "        else:\n",
    "            return 'No' \n",
    "        "
   ]
  },
  {
   "cell_type": "code",
   "execution_count": 70,
   "id": "c7c5240c",
   "metadata": {},
   "outputs": [],
   "source": [
    "NV = Naive_Bayes(df)"
   ]
  },
  {
   "cell_type": "markdown",
   "id": "b27c2e0f",
   "metadata": {},
   "source": [
    "## Predict play for the following\n",
    "outlook = sunny, temp = cool, humidity = high, wind = strong"
   ]
  },
  {
   "cell_type": "code",
   "execution_count": 77,
   "id": "df6eaa56",
   "metadata": {},
   "outputs": [],
   "source": [
    "param = {'outlook': 'Sunny', 'temp': 'Cool', 'humidity': 'High', 'wind': 'Strong'}"
   ]
  },
  {
   "cell_type": "code",
   "execution_count": 78,
   "id": "0411f67e",
   "metadata": {},
   "outputs": [
    {
     "data": {
      "text/plain": [
       "'No'"
      ]
     },
     "execution_count": 78,
     "metadata": {},
     "output_type": "execute_result"
    }
   ],
   "source": [
    "NV.predict(param)"
   ]
  },
  {
   "cell_type": "code",
   "execution_count": null,
   "id": "bf7d770a",
   "metadata": {},
   "outputs": [],
   "source": []
  }
 ],
 "metadata": {
  "kernelspec": {
   "display_name": "Python 3 (ipykernel)",
   "language": "python",
   "name": "python3"
  },
  "language_info": {
   "codemirror_mode": {
    "name": "ipython",
    "version": 3
   },
   "file_extension": ".py",
   "mimetype": "text/x-python",
   "name": "python",
   "nbconvert_exporter": "python",
   "pygments_lexer": "ipython3",
   "version": "3.9.13"
  }
 },
 "nbformat": 4,
 "nbformat_minor": 5
}
